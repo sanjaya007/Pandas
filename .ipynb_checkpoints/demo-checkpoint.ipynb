{
 "cells": [
  {
   "cell_type": "markdown",
   "id": "7fc8ade8-410e-4804-b318-c8a3829bb7a9",
   "metadata": {},
   "source": [
    "## Loading data into pandas"
   ]
  },
  {
   "cell_type": "code",
   "execution_count": 3,
   "id": "4857f4f8-0a4c-4136-8057-9e684de34368",
   "metadata": {},
   "outputs": [
    {
     "name": "stdout",
     "output_type": "stream",
     "text": [
      "   #       Name Type 1  Type 2  HP  Attack  Defense  Sp. Atk  Sp. Def  Speed  \\\n",
      "0  1  Bulbasaur  Grass  Poison  45      49       49       65       65     45   \n",
      "1  2    Ivysaur  Grass  Poison  60      62       63       80       80     60   \n",
      "2  3   Venusaur  Grass  Poison  80      82       83      100      100     80   \n",
      "\n",
      "   Generation  Legendary  \n",
      "0           1      False  \n",
      "1           1      False  \n",
      "2           1      False  \n"
     ]
    }
   ],
   "source": [
    "import pandas as pd\n",
    "\n",
    "df = pd.read_csv('pokemon_data.csv')\n",
    "print(df.head(3))\n",
    "\n",
    "# df = pd.read_excel('pokemon_data.xlsx')\n",
    "# print(df.head(3))\n",
    "\n",
    "# df = pd.read_csv('pokemon_data.txt', delimiter=\"\\t\")\n",
    "# print(df.head(3))"
   ]
  },
  {
   "cell_type": "markdown",
   "id": "41ab1684-52c3-4fd0-a09f-34a657119ae7",
   "metadata": {},
   "source": [
    "## Reading data in pandas"
   ]
  },
  {
   "cell_type": "code",
   "execution_count": 6,
   "id": "cd2c5369-b7e7-41eb-aa88-07ebe3003b9a",
   "metadata": {},
   "outputs": [
    {
     "name": "stdout",
     "output_type": "stream",
     "text": [
      "Index(['#', 'Name', 'Type 1', 'Type 2', 'HP', 'Attack', 'Defense', 'Sp. Atk',\n",
      "       'Sp. Def', 'Speed', 'Generation', 'Legendary'],\n",
      "      dtype='object')\n",
      "   #                   Name Type 1  Type 2  HP  Attack  Defense  Sp. Atk  \\\n",
      "0  1              Bulbasaur  Grass  Poison  45      49       49       65   \n",
      "1  2                Ivysaur  Grass  Poison  60      62       63       80   \n",
      "2  3               Venusaur  Grass  Poison  80      82       83      100   \n",
      "3  3  VenusaurMega Venusaur  Grass  Poison  80     100      123      122   \n",
      "\n",
      "   Sp. Def  Speed  Generation  Legendary  \n",
      "0       65     45           1      False  \n",
      "1       80     60           1      False  \n",
      "2      100     80           1      False  \n",
      "3      120     80           1      False  \n"
     ]
    }
   ],
   "source": [
    "# Read Headers\n",
    "# print(df.columns)\n",
    "  \n",
    "# Read each columns\n",
    "# print(df[[\"Name\", \"Type 1\", \"HP\"]]) \n",
    "\n",
    "# Read each row\n",
    "print(df.iloc[0:4])"
   ]
  },
  {
   "cell_type": "code",
   "execution_count": null,
   "id": "cbe7b553-f2c9-4052-bf13-91cc95a63122",
   "metadata": {},
   "outputs": [],
   "source": []
  }
 ],
 "metadata": {
  "kernelspec": {
   "display_name": "Python 3 (ipykernel)",
   "language": "python",
   "name": "python3"
  },
  "language_info": {
   "codemirror_mode": {
    "name": "ipython",
    "version": 3
   },
   "file_extension": ".py",
   "mimetype": "text/x-python",
   "name": "python",
   "nbconvert_exporter": "python",
   "pygments_lexer": "ipython3",
   "version": "3.12.3"
  }
 },
 "nbformat": 4,
 "nbformat_minor": 5
}
